{
 "cells": [
  {
   "cell_type": "code",
   "execution_count": 10,
   "metadata": {},
   "outputs": [
    {
     "name": "stdout",
     "output_type": "stream",
     "text": [
      "Публичные данные\n",
      "P =  2410312426921032588552076022197566074856950548502459942654116941958108831682612228890093858261341614673227141477904012196503648957050582631942730706805009223062734745341073406696246014589361659774041027169249453200378729434170325843778659198143763193776859869524088940195577346119843545301547043747207749969763750084308926339295559968882457872412993810129130294592999947926365264059284647209730384947211681434464714438488520940127459844288859336526896320919633919\n",
      "G =  2\n",
      "A =   64\n",
      "B =   32768\n",
      "\n",
      "------------\n",
      "\n",
      "Вычисленное секретное значение :\n",
      "Секретное Алисы  1237940039285380274899124224\n",
      "Секретное Боба 1237940039285380274899124224\n"
     ]
    }
   ],
   "source": [
    "from __future__ import print_function\n",
    "\n",
    "#33 Реализовать обмен ключей Диффи-Хеллмана(Diffie-Hellman)\n",
    "\n",
    "# p\n",
    "sharedPrime = int(\"ffffffffffffffffc90fdaa22168c234c4c6628b80dc1cd129024e088a67cc74020bbea63b139b22514a08798e3404ddef9519b3cd3a431b302b0a6df25f14374fe1356d6d51c245e485b576625e7ec6f44c42e9a637ed6b0bff5cb6f406b7edee386bfb5a899fa5ae9f24117c4b1fe649286651ece45b3dc2007cb8a163bf0598da48361c55d39a69163fa8fd24cf5f83655d23dca3ad961c62f356208552bb9ed529077096966d670c354e4abc9804f1746c08ca237327ffffffffffffffff\", 16) \n",
    "sharedBase = 2      # g\n",
    "\n",
    "aliceSecret = 6     # a\n",
    "bobSecret = 15      # b\n",
    " \n",
    "print( \"Публичные данные\")\n",
    "print( \"P = \" , sharedPrime)\n",
    "print( \"G = \" , sharedBase)\n",
    " \n",
    "# A = g^a mod p\n",
    "A = (sharedBase**aliceSecret) % sharedPrime\n",
    "print( \"A =  \" , A )\n",
    " \n",
    "# B = g^b mod p\n",
    "B = (sharedBase ** bobSecret) % sharedPrime\n",
    "print(\"B =  \", B )\n",
    " \n",
    "print( \"\\n------------\\n\" )\n",
    "print( \"Вычисленное секретное значение :\" )\n",
    "# s = B^a mod p\n",
    "aliceSharedSecret = (B ** aliceSecret) % sharedPrime\n",
    "print( \"Секретное Алисы \", aliceSharedSecret )\n",
    " \n",
    "# Bob Computes Shared Secret: s = A^b mod p\n",
    "bobSharedSecret = (A**bobSecret) % sharedPrime\n",
    "print( \"Секретное Боба\", bobSharedSecret )"
   ]
  },
  {
   "cell_type": "code",
   "execution_count": null,
   "metadata": {},
   "outputs": [],
   "source": []
  }
 ],
 "metadata": {
  "kernelspec": {
   "display_name": "Python 3",
   "language": "python",
   "name": "python3"
  },
  "language_info": {
   "codemirror_mode": {
    "name": "ipython",
    "version": 3
   },
   "file_extension": ".py",
   "mimetype": "text/x-python",
   "name": "python",
   "nbconvert_exporter": "python",
   "pygments_lexer": "ipython3",
   "version": "3.7.6"
  }
 },
 "nbformat": 4,
 "nbformat_minor": 4
}
